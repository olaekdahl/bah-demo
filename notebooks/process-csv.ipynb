{
 "cells": [
  {
   "cell_type": "code",
   "execution_count": 8,
   "metadata": {},
   "outputs": [],
   "source": [
    "import pandas as pd\n",
    "import glob\n",
    "\n",
    "# Step 1: Define the pattern to match all your CSV files and the columns you want to include\n",
    "path = '../raw-data/*.csv'  \n",
    "csv_files = glob.glob(path)\n",
    "columns_to_include = ['Name', 'Year', 'Average']\n",
    "\n",
    "# Step 2: Read each CSV file into a DataFrame with only the specified columns and store them in a list\n",
    "dfs = [pd.read_csv(file, usecols=columns_to_include) for file in csv_files]\n",
    "\n",
    "# Step 3: Combine all DataFrames into a single DataFrame\n",
    "combined_df = pd.concat(dfs, ignore_index=True)\n",
    "\n",
    "# Step 4: Remove duplicates\n",
    "final_df = combined_df.drop_duplicates()\n",
    "\n",
    "# Step 5: Save the final_df DataFrame as a JSON document\n",
    "final_df.to_json('../data.json', orient='records')"
   ]
  }
 ],
 "metadata": {
  "kernelspec": {
   "display_name": "Python 3",
   "language": "python",
   "name": "python3"
  },
  "language_info": {
   "codemirror_mode": {
    "name": "ipython",
    "version": 3
   },
   "file_extension": ".py",
   "mimetype": "text/x-python",
   "name": "python",
   "nbconvert_exporter": "python",
   "pygments_lexer": "ipython3",
   "version": "3.8.10"
  }
 },
 "nbformat": 4,
 "nbformat_minor": 2
}
